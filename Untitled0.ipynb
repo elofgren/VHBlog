{
 "metadata": {
  "name": "",
  "signature": "sha256:7521f1eb61c0cb9fd236d201d2b14149ebd498d1cee689969300237e2797839f"
 },
 "nbformat": 3,
 "nbformat_minor": 0,
 "worksheets": [
  {
   "cells": [
    {
     "cell_type": "code",
     "collapsed": false,
     "input": [
      "from __future__ import division\n",
      "\n",
      "import numpy as np\n",
      "from bokeh.plotting import *\n",
      "\n",
      "# Skip the first point because it can be troublesome\n",
      "theta = np.linspace(0, 8*np.pi, 10000)[1:]\n",
      "\n",
      "# Compute the radial coordinates for some different spirals\n",
      "lituus = theta**(-1/2)          # lituus\n",
      "golden = np.exp(0.306349*theta) # golden\n",
      "arch   = theta                  # Archimedean\n",
      "fermat = theta**(1/2)           # Fermat's\n",
      "\n",
      "# Now compute the X and Y coordinates (polar mappers planned for Bokeh later)\n",
      "golden_x = golden*np.cos(theta)\n",
      "golden_y = golden*np.sin(theta)\n",
      "lituus_x = lituus*np.cos(theta)\n",
      "lituus_y = lituus*np.sin(theta)\n",
      "arch_x   = arch*np.cos(theta)\n",
      "arch_y   = arch*np.sin(theta)\n",
      "fermat_x = fermat*np.cos(theta)\n",
      "fermat_y = fermat*np.sin(theta)\n",
      "\n",
      "# output to static HTML file\n",
      "output_file(\"lines.html\")\n",
      "\n",
      "# Plot the Archimedean spiral using the `line` renderer. Note how we set the\n",
      "# color, line thickness, title, and legend value.\n",
      "line(arch_x, arch_y, color=\"red\", line_width=2,\n",
      "     title=\"Archimean\", legend=\"Archimedean\")"
     ],
     "language": "python",
     "metadata": {},
     "outputs": [
      {
       "metadata": {},
       "output_type": "pyout",
       "prompt_number": 1,
       "text": [
        "<bokeh.objects.Plot at 0x1094af7d0>"
       ]
      }
     ],
     "prompt_number": 1
    },
    {
     "cell_type": "code",
     "collapsed": false,
     "input": [
      "show()"
     ],
     "language": "python",
     "metadata": {},
     "outputs": [],
     "prompt_number": 2
    },
    {
     "cell_type": "code",
     "collapsed": false,
     "input": [
      "theta"
     ],
     "language": "python",
     "metadata": {},
     "outputs": [
      {
       "metadata": {},
       "output_type": "pyout",
       "prompt_number": 3,
       "text": [
        "array([  2.51352548e-03,   5.02705095e-03,   7.54057643e-03, ...,\n",
        "         2.51277142e+01,   2.51302277e+01,   2.51327412e+01])"
       ]
      }
     ],
     "prompt_number": 3
    },
    {
     "cell_type": "code",
     "collapsed": false,
     "input": [],
     "language": "python",
     "metadata": {},
     "outputs": []
    }
   ],
   "metadata": {}
  }
 ]
}